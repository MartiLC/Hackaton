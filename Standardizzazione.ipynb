{
  "nbformat": 4,
  "nbformat_minor": 0,
  "metadata": {
    "colab": {
      "name": "Standardizzazione.ipynb",
      "provenance": [],
      "collapsed_sections": [],
      "authorship_tag": "ABX9TyP8W6ujzJ42zYMi4JxDl7Ll",
      "include_colab_link": true
    },
    "kernelspec": {
      "name": "python3",
      "display_name": "Python 3"
    }
  },
  "cells": [
    {
      "cell_type": "markdown",
      "metadata": {
        "id": "view-in-github",
        "colab_type": "text"
      },
      "source": [
        "<a href=\"https://colab.research.google.com/github/MartiLC/Hackaton/blob/main/Standardizzazione.ipynb\" target=\"_parent\"><img src=\"https://colab.research.google.com/assets/colab-badge.svg\" alt=\"Open In Colab\"/></a>"
      ]
    },
    {
      "cell_type": "code",
      "metadata": {
        "id": "kRdvUpORgFLp"
      },
      "source": [
        "import pandas as pd\n",
        "import numpy as np\n",
        "from sklearn import preprocessing\n",
        "from sklearn.preprocessing import StandardScaler\n",
        "from sklearn.preprocessing import MinMaxScaler\n"
      ],
      "execution_count": null,
      "outputs": []
    },
    {
      "cell_type": "code",
      "metadata": {
        "id": "rKUFqlzrgQea"
      },
      "source": [
        "dataset = pd.DataFrame({'var1': [1.2, 4, 6, 8, 2.3, 7],\n",
        "                        'var2': ['a', 'b', 'a', 'c', 'd', 'b'],\n",
        "                        'var3': ['2','4','2','7','7','6']})"
      ],
      "execution_count": null,
      "outputs": []
    },
    {
      "cell_type": "code",
      "metadata": {
        "id": "T8jIRDlGg-zH",
        "outputId": "ab890cfd-fa61-4dd8-f6ff-5d926e9b52aa",
        "colab": {
          "base_uri": "https://localhost:8080/"
        }
      },
      "source": [
        "print(dataset)"
      ],
      "execution_count": null,
      "outputs": [
        {
          "output_type": "stream",
          "text": [
            "   var1 var2 var3\n",
            "0   1.2    a    2\n",
            "1   4.0    b    4\n",
            "2   6.0    a    2\n",
            "3   8.0    c    7\n",
            "4   2.3    d    7\n",
            "5   7.0    b    6\n"
          ],
          "name": "stdout"
        }
      ]
    },
    {
      "cell_type": "code",
      "metadata": {
        "id": "pDIAJ_DQhJM6",
        "outputId": "df2b5c2b-bd14-43d2-9c34-465aca3f977b",
        "colab": {
          "base_uri": "https://localhost:8080/"
        }
      },
      "source": [
        "#da applicare solo a variabili numeriche\n",
        "var1 = pd.DataFrame(preprocessing.scale(dataset['var1']))\n",
        "var1.columns = ['var1']\n",
        "print(var1)"
      ],
      "execution_count": null,
      "outputs": [
        {
          "output_type": "stream",
          "text": [
            "       var1\n",
            "0 -1.442188\n",
            "1 -0.304688\n",
            "2  0.507813\n",
            "3  1.320313\n",
            "4 -0.995313\n",
            "5  0.914063\n"
          ],
          "name": "stdout"
        }
      ]
    },
    {
      "cell_type": "code",
      "metadata": {
        "id": "TCEk1MfpnDAx",
        "outputId": "b184cb80-2523-445d-b109-39b0c299fbb9",
        "colab": {
          "base_uri": "https://localhost:8080/",
          "height": 235
        }
      },
      "source": [
        "dataset.join(var1, rsuffix='_std')"
      ],
      "execution_count": null,
      "outputs": [
        {
          "output_type": "execute_result",
          "data": {
            "text/html": [
              "<div>\n",
              "<style scoped>\n",
              "    .dataframe tbody tr th:only-of-type {\n",
              "        vertical-align: middle;\n",
              "    }\n",
              "\n",
              "    .dataframe tbody tr th {\n",
              "        vertical-align: top;\n",
              "    }\n",
              "\n",
              "    .dataframe thead th {\n",
              "        text-align: right;\n",
              "    }\n",
              "</style>\n",
              "<table border=\"1\" class=\"dataframe\">\n",
              "  <thead>\n",
              "    <tr style=\"text-align: right;\">\n",
              "      <th></th>\n",
              "      <th>var1</th>\n",
              "      <th>var2</th>\n",
              "      <th>var3</th>\n",
              "      <th>var1_std</th>\n",
              "    </tr>\n",
              "  </thead>\n",
              "  <tbody>\n",
              "    <tr>\n",
              "      <th>0</th>\n",
              "      <td>1.2</td>\n",
              "      <td>a</td>\n",
              "      <td>2</td>\n",
              "      <td>-1.442188</td>\n",
              "    </tr>\n",
              "    <tr>\n",
              "      <th>1</th>\n",
              "      <td>4.0</td>\n",
              "      <td>b</td>\n",
              "      <td>4</td>\n",
              "      <td>-0.304688</td>\n",
              "    </tr>\n",
              "    <tr>\n",
              "      <th>2</th>\n",
              "      <td>6.0</td>\n",
              "      <td>a</td>\n",
              "      <td>2</td>\n",
              "      <td>0.507813</td>\n",
              "    </tr>\n",
              "    <tr>\n",
              "      <th>3</th>\n",
              "      <td>8.0</td>\n",
              "      <td>c</td>\n",
              "      <td>7</td>\n",
              "      <td>1.320313</td>\n",
              "    </tr>\n",
              "    <tr>\n",
              "      <th>4</th>\n",
              "      <td>2.3</td>\n",
              "      <td>d</td>\n",
              "      <td>7</td>\n",
              "      <td>-0.995313</td>\n",
              "    </tr>\n",
              "    <tr>\n",
              "      <th>5</th>\n",
              "      <td>7.0</td>\n",
              "      <td>b</td>\n",
              "      <td>6</td>\n",
              "      <td>0.914063</td>\n",
              "    </tr>\n",
              "  </tbody>\n",
              "</table>\n",
              "</div>"
            ],
            "text/plain": [
              "   var1 var2 var3  var1_std\n",
              "0   1.2    a    2 -1.442188\n",
              "1   4.0    b    4 -0.304688\n",
              "2   6.0    a    2  0.507813\n",
              "3   8.0    c    7  1.320313\n",
              "4   2.3    d    7 -0.995313\n",
              "5   7.0    b    6  0.914063"
            ]
          },
          "metadata": {
            "tags": []
          },
          "execution_count": 37
        }
      ]
    },
    {
      "cell_type": "code",
      "metadata": {
        "id": "Tziny9fSoaGI",
        "outputId": "e4779f2b-f81b-4ee7-ed88-714878888b25",
        "colab": {
          "base_uri": "https://localhost:8080/"
        }
      },
      "source": [
        "dataset_array = np.matrix(dataset)\n",
        "print(dataset_array)"
      ],
      "execution_count": null,
      "outputs": [
        {
          "output_type": "stream",
          "text": [
            "[[1.2 'a' '2']\n",
            " [4.0 'b' '4']\n",
            " [6.0 'a' '2']\n",
            " [8.0 'c' '7']\n",
            " [2.3 'd' '7']\n",
            " [7.0 'b' '6']]\n"
          ],
          "name": "stdout"
        }
      ]
    },
    {
      "cell_type": "code",
      "metadata": {
        "id": "kib5VLfiprwE",
        "outputId": "5d55744d-f68c-4eb1-8b36-60326b6043a6",
        "colab": {
          "base_uri": "https://localhost:8080/"
        }
      },
      "source": [
        "var1_array = dataset_array[:, 0]\n",
        "print(var1_array)"
      ],
      "execution_count": null,
      "outputs": [
        {
          "output_type": "stream",
          "text": [
            "[[1.2]\n",
            " [4.0]\n",
            " [6.0]\n",
            " [8.0]\n",
            " [2.3]\n",
            " [7.0]]\n"
          ],
          "name": "stdout"
        }
      ]
    },
    {
      "cell_type": "code",
      "metadata": {
        "id": "ZLbj2Vgbp50j",
        "outputId": "693d5fd6-f1cf-45ed-e729-5299d56a04bc",
        "colab": {
          "base_uri": "https://localhost:8080/"
        }
      },
      "source": [
        "var1_array_scaler = StandardScaler().fit_transform(var1_array) \n",
        "print(var1_array_scaler)"
      ],
      "execution_count": null,
      "outputs": [
        {
          "output_type": "stream",
          "text": [
            "[[-1.44218809]\n",
            " [-0.30468762]\n",
            " [ 0.50781271]\n",
            " [ 1.32031304]\n",
            " [-0.9953129 ]\n",
            " [ 0.91406287]]\n"
          ],
          "name": "stdout"
        }
      ]
    },
    {
      "cell_type": "code",
      "metadata": {
        "id": "AXBwgCtarLlW",
        "outputId": "67450921-624b-412c-a349-fd0675f28eb0",
        "colab": {
          "base_uri": "https://localhost:8080/"
        }
      },
      "source": [
        "print(var1_array)"
      ],
      "execution_count": null,
      "outputs": [
        {
          "output_type": "stream",
          "text": [
            "[[1.2]\n",
            " [4.0]\n",
            " [6.0]\n",
            " [8.0]\n",
            " [2.3]\n",
            " [7.0]]\n"
          ],
          "name": "stdout"
        }
      ]
    },
    {
      "cell_type": "code",
      "metadata": {
        "id": "mwqHJucGqj2w",
        "outputId": "30a2226a-2acc-470b-ae95-0507e46d7b6c",
        "colab": {
          "base_uri": "https://localhost:8080/"
        }
      },
      "source": [
        "scaler2 = MinMaxScaler(feature_range=(0,1))\n",
        "var1_array_scaler2=scaler2.fit_transform(var1_array)\n",
        "print(var1_array_scaler2)"
      ],
      "execution_count": null,
      "outputs": [
        {
          "output_type": "stream",
          "text": [
            "[[0.        ]\n",
            " [0.41176471]\n",
            " [0.70588235]\n",
            " [1.        ]\n",
            " [0.16176471]\n",
            " [0.85294118]]\n"
          ],
          "name": "stdout"
        }
      ]
    }
  ]
}